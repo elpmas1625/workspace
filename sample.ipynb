{
 "cells": [
  {
   "cell_type": "code",
   "execution_count": 1,
   "metadata": {},
   "outputs": [],
   "source": [
    "class CNT:\n",
    "    def __init__(self):\n",
    "        self.x = 0\n",
    "    def __call__(self):\n",
    "        self.x += 1\n",
    "        return self.x        \n",
    "\n",
    "c = CNT()\n",
    "\n",
    "def input():\n",
    "    f = open(\"input.txt\", \"r\")\n",
    "    data = f.read().split(\"\\n\")\n",
    "    f.close()\n",
    "    cnt = c()\n",
    "    if(cnt > len(data)):\n",
    "        print(\"これ以上の入力がありません．\")\n",
    "    else:\n",
    "        ret = data[cnt-1]\n",
    "        return ret"
   ]
  },
  {
   "cell_type": "code",
   "execution_count": 2,
   "metadata": {},
   "outputs": [
    {
     "name": "stdout",
     "output_type": "stream",
     "text": [
      "['.##..', '.....', '...##', '#.###']\n"
     ]
    }
   ],
   "source": [
    "c=CNT()\n",
    "\n",
    "H, W = map(int, input().split())\n",
    "S = [input() for _ in range(H)]\n",
    "\n",
    "print(S)"
   ]
  }
 ],
 "metadata": {
  "kernelspec": {
   "display_name": "Python 3",
   "language": "python",
   "name": "python3"
  },
  "language_info": {
   "codemirror_mode": {
    "name": "ipython",
    "version": 3
   },
   "file_extension": ".py",
   "mimetype": "text/x-python",
   "name": "python",
   "nbconvert_exporter": "python",
   "pygments_lexer": "ipython3",
   "version": "3.8.9 (default, Aug  3 2021, 19:21:54) \n[Clang 13.0.0 (clang-1300.0.29.3)]"
  },
  "orig_nbformat": 4,
  "vscode": {
   "interpreter": {
    "hash": "31f2aee4e71d21fbe5cf8b01ff0e069b9275f58929596ceb00d14d90e3e16cd6"
   }
  }
 },
 "nbformat": 4,
 "nbformat_minor": 2
}
